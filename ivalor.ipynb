{
 "cells": [
  {
   "cell_type": "code",
   "execution_count": 2,
   "metadata": {},
   "outputs": [],
   "source": [
    "import numpy as np\n",
    "import pandas as pd\n",
    "import string\n",
    "import requests\n",
    "from datetime import datetime\n",
    "from datetime import date\n",
    "from bs4 import BeautifulSoup\n",
    "import warnings\n",
    "from pandas import DataFrame\n",
    "warnings.filterwarnings('ignore')"
   ]
  },
  {
   "cell_type": "code",
   "execution_count": 1,
   "metadata": {},
   "outputs": [],
   "source": [
    "from DadosAbertosBrasil import ipea\n",
    "import pandas as pd\n",
    "import matplotlib.pyplot as plt\n",
    "plt.style.use('ggplot')"
   ]
  },
  {
   "cell_type": "code",
   "execution_count": 3,
   "metadata": {},
   "outputs": [],
   "source": [
    "header = {\n",
    "  \"User-Agent\": \"Mozilla/5.0 (Windows NT 10.0; Win64; x64) AppleWebKit/537.36 (KHTML, like Gecko) Chrome/84.0.4147.89 Safari/537.36\"  \n",
    " }\n",
    "\n",
    "\n",
    "listagem = []\n",
    "url = 'https://www.ivalor.com.br/empresas/listagem?p=1'\n",
    "for page_number in range(1,29):\n",
    "  urlbase = url.replace('p=1','p=' + str(page_number))\n",
    "\n",
    "  response = requests.get(urlbase)\n",
    "  site = BeautifulSoup(response.text, 'html.parser')\n",
    "  tabela = site.find('div', attrs={'class': 'col-xl-12 table-responsive'})\n",
    "\n",
    "  for acao in tabela.find_all('tbody'):\n",
    "    rows = acao.find_all('tr')\n",
    "\n",
    "    for row in rows:\n",
    "      Index = row.find('td', attrs={'class': 'text-center'}).text\n",
    "      Papel = row.find('b').text\n",
    "      Empresa = row.find('img')['alt']\n",
    "      Classificacao = row.find_all('td', attrs={'class': 'text-center'})[4].text\n",
    "      Setor = row.find_all('td', attrs={'class': 'text-center'})[7].text\n",
    "      Segmento = row.find_all('td', attrs={'class': 'text-center'})[8].text\n",
    "      Detalhamento = row.find_all('td', attrs={'class': 'text-center'})[9].text\n",
    "      Segmentos_Listagem = row.find_all('td', attrs={'class': 'text-center'})[5].text\n",
    "      Tag_Along = row.find_all('td', attrs={'class': 'text-center'})[6].text\n",
    "      \n",
    "      listagem.append([Index, Papel, Empresa, Classificacao, Setor, Segmento, Detalhamento, Segmentos_Listagem, Tag_Along])\n",
    "\n",
    "    \n"
   ]
  },
  {
   "cell_type": "code",
   "execution_count": 5,
   "metadata": {},
   "outputs": [
    {
     "data": {
      "text/html": [
       "<div>\n",
       "<style scoped>\n",
       "    .dataframe tbody tr th:only-of-type {\n",
       "        vertical-align: middle;\n",
       "    }\n",
       "\n",
       "    .dataframe tbody tr th {\n",
       "        vertical-align: top;\n",
       "    }\n",
       "\n",
       "    .dataframe thead th {\n",
       "        text-align: right;\n",
       "    }\n",
       "</style>\n",
       "<table border=\"1\" class=\"dataframe\">\n",
       "  <thead>\n",
       "    <tr style=\"text-align: right;\">\n",
       "      <th></th>\n",
       "      <th>0</th>\n",
       "      <th>1</th>\n",
       "      <th>2</th>\n",
       "      <th>3</th>\n",
       "      <th>4</th>\n",
       "      <th>5</th>\n",
       "      <th>6</th>\n",
       "      <th>7</th>\n",
       "      <th>8</th>\n",
       "    </tr>\n",
       "  </thead>\n",
       "  <tbody>\n",
       "    <tr>\n",
       "      <th>0</th>\n",
       "      <td>1</td>\n",
       "      <td>AALR3</td>\n",
       "      <td>ALLIAR</td>\n",
       "      <td>Small Cap</td>\n",
       "      <td>Saúde</td>\n",
       "      <td>Serv.Méd.Hospit..Análises e Diagnósticos</td>\n",
       "      <td>Serv.Méd.Hospit..Análises e Diagnósticos</td>\n",
       "      <td>Novo Mercado</td>\n",
       "      <td>100% para ações ON</td>\n",
       "    </tr>\n",
       "    <tr>\n",
       "      <th>1</th>\n",
       "      <td>2</td>\n",
       "      <td>ABCB4</td>\n",
       "      <td>ABC BRASIL</td>\n",
       "      <td>Small Cap</td>\n",
       "      <td>Financeiro</td>\n",
       "      <td>Intermediários Financeiros</td>\n",
       "      <td>Bancos</td>\n",
       "      <td>Nível 2 de Governança Corporativa</td>\n",
       "      <td>100% para ações ON e PN</td>\n",
       "    </tr>\n",
       "    <tr>\n",
       "      <th>2</th>\n",
       "      <td>3</td>\n",
       "      <td>ABEV3</td>\n",
       "      <td>AMBEV S/A</td>\n",
       "      <td>Mega Cap</td>\n",
       "      <td>Consumo não Cíclico</td>\n",
       "      <td>Bebidas</td>\n",
       "      <td>Cervejas e Refrigerantes</td>\n",
       "      <td>Balcão Org. Tradicional</td>\n",
       "      <td>80% para ações ON</td>\n",
       "    </tr>\n",
       "    <tr>\n",
       "      <th>3</th>\n",
       "      <td>4</td>\n",
       "      <td>ADHM3</td>\n",
       "      <td>ADVANCED-DH</td>\n",
       "      <td>Nano Cap</td>\n",
       "      <td>Saúde</td>\n",
       "      <td>Serv.Méd.Hospit..Análises e Diagnósticos</td>\n",
       "      <td>Serv.Méd.Hospit..Análises e Diagnósticos</td>\n",
       "      <td>Balcão Org. Tradicional</td>\n",
       "      <td>80% para ações ON</td>\n",
       "    </tr>\n",
       "    <tr>\n",
       "      <th>4</th>\n",
       "      <td>5</td>\n",
       "      <td>AERI3</td>\n",
       "      <td>AERIS</td>\n",
       "      <td>Small Cap</td>\n",
       "      <td>Bens Industriais</td>\n",
       "      <td>Máquinas e Equipamentos</td>\n",
       "      <td>Máq. e Equip. Industriais</td>\n",
       "      <td>Novo Mercado</td>\n",
       "      <td>100% para ações ON</td>\n",
       "    </tr>\n",
       "  </tbody>\n",
       "</table>\n",
       "</div>"
      ],
      "text/plain": [
       "   0      1            2          3                    4  \\\n",
       "0  1  AALR3       ALLIAR  Small Cap                Saúde   \n",
       "1  2  ABCB4   ABC BRASIL  Small Cap           Financeiro   \n",
       "2  3  ABEV3    AMBEV S/A   Mega Cap  Consumo não Cíclico   \n",
       "3  4  ADHM3  ADVANCED-DH   Nano Cap                Saúde   \n",
       "4  5  AERI3        AERIS  Small Cap     Bens Industriais   \n",
       "\n",
       "                                          5  \\\n",
       "0  Serv.Méd.Hospit..Análises e Diagnósticos   \n",
       "1                Intermediários Financeiros   \n",
       "2                                   Bebidas   \n",
       "3  Serv.Méd.Hospit..Análises e Diagnósticos   \n",
       "4                   Máquinas e Equipamentos   \n",
       "\n",
       "                                          6  \\\n",
       "0  Serv.Méd.Hospit..Análises e Diagnósticos   \n",
       "1                                    Bancos   \n",
       "2                  Cervejas e Refrigerantes   \n",
       "3  Serv.Méd.Hospit..Análises e Diagnósticos   \n",
       "4                 Máq. e Equip. Industriais   \n",
       "\n",
       "                                   7                        8  \n",
       "0                       Novo Mercado       100% para ações ON  \n",
       "1  Nível 2 de Governança Corporativa  100% para ações ON e PN  \n",
       "2            Balcão Org. Tradicional        80% para ações ON  \n",
       "3            Balcão Org. Tradicional        80% para ações ON  \n",
       "4                       Novo Mercado       100% para ações ON  "
      ]
     },
     "execution_count": 5,
     "metadata": {},
     "output_type": "execute_result"
    }
   ],
   "source": [
    "x = pd.DataFrame(listagem)\n",
    "x.head()"
   ]
  },
  {
   "cell_type": "code",
   "execution_count": null,
   "metadata": {},
   "outputs": [],
   "source": [
    "     # print(index, acao, empresa, classificacao, setor, segmento, detalhamento, informativo, abertur\n",
    "df1 = pd.DataFrame(listagem, columns=['Index', 'Papel', 'Empresa', 'Classificacao', 'Setor', 'Segmento', 'Detalhamento', 'Segmentos_Listagem', 'Tag_Along'])\n"
   ]
  },
  {
   "cell_type": "code",
   "execution_count": null,
   "metadata": {},
   "outputs": [],
   "source": [
    "from google.colab import drive\n",
    "drive.mount ('/drive')\n",
    "df1.to_csv('/drive/MyDrive/detalhe_csv.csv')"
   ]
  },
  {
   "cell_type": "code",
   "execution_count": null,
   "metadata": {},
   "outputs": [],
   "source": [
    "df = pd.read_csv('meu_arquivo_csv.csv',sep=\",\")\n",
    "df.drop(df.filter(regex=\"Unname\"),axis=1, inplace=True)\n"
   ]
  },
  {
   "cell_type": "code",
   "execution_count": null,
   "metadata": {},
   "outputs": [],
   "source": [
    "df2 = pd.merge(df, df1, on='Papel', how='left')"
   ]
  },
  {
   "cell_type": "code",
   "execution_count": null,
   "metadata": {},
   "outputs": [],
   "source": [
    "\n",
    "drive.mount ('/drive')\n",
    "df3 = pd.read_csv('/drive/MyDrive/meu_arquivo_csv.csv',sep=\",\")\n",
    "df3.drop(df3.filter(regex=\"Unname\"),axis=1, inplace=True)"
   ]
  }
 ],
 "metadata": {
  "kernelspec": {
   "display_name": "Python 3.10.6 ('env': venv)",
   "language": "python",
   "name": "python3"
  },
  "language_info": {
   "codemirror_mode": {
    "name": "ipython",
    "version": 3
   },
   "file_extension": ".py",
   "mimetype": "text/x-python",
   "name": "python",
   "nbconvert_exporter": "python",
   "pygments_lexer": "ipython3",
   "version": "3.10.6"
  },
  "orig_nbformat": 4,
  "vscode": {
   "interpreter": {
    "hash": "c46e8280d1dd4ef73e7b9bff43bdba763f202b0e70637f286a2d35fd0821fd8e"
   }
  }
 },
 "nbformat": 4,
 "nbformat_minor": 2
}
