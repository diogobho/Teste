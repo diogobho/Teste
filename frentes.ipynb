{
 "cells": [
  {
   "cell_type": "code",
   "execution_count": 1,
   "metadata": {},
   "outputs": [],
   "source": [
    "import requests\n",
    "import json\n",
    "import pandas as pd\n",
    "import seaborn as sns\n",
    "import matplotlib.pyplot as plt\n",
    "from wordcloud import WordCloud"
   ]
  },
  {
   "cell_type": "code",
   "execution_count": 2,
   "metadata": {},
   "outputs": [],
   "source": [
    "url        = 'https://dadosabertos.camara.leg.br/api/v2/frentes'\n",
    "parametros = {}\n",
    "resposta   = requests.request(\"GET\", url, params=parametros)\n",
    "objetos    = json.loads(resposta.text)\n",
    "dados      = objetos['dados']"
   ]
  },
  {
   "cell_type": "code",
   "execution_count": 4,
   "metadata": {},
   "outputs": [
    {
     "data": {
      "text/html": [
       "<div>\n",
       "<style scoped>\n",
       "    .dataframe tbody tr th:only-of-type {\n",
       "        vertical-align: middle;\n",
       "    }\n",
       "\n",
       "    .dataframe tbody tr th {\n",
       "        vertical-align: top;\n",
       "    }\n",
       "\n",
       "    .dataframe thead th {\n",
       "        text-align: right;\n",
       "    }\n",
       "</style>\n",
       "<table border=\"1\" class=\"dataframe\">\n",
       "  <thead>\n",
       "    <tr style=\"text-align: right;\">\n",
       "      <th></th>\n",
       "      <th>id</th>\n",
       "      <th>uri</th>\n",
       "      <th>titulo</th>\n",
       "      <th>idLegislatura</th>\n",
       "    </tr>\n",
       "  </thead>\n",
       "  <tbody>\n",
       "    <tr>\n",
       "      <th>0</th>\n",
       "      <td>54282</td>\n",
       "      <td>https://dadosabertos.camara.leg.br/api/v2/fren...</td>\n",
       "      <td>Frente Parlamentar Mista da Contabilidade Bras...</td>\n",
       "      <td>56</td>\n",
       "    </tr>\n",
       "    <tr>\n",
       "      <th>1</th>\n",
       "      <td>54280</td>\n",
       "      <td>https://dadosabertos.camara.leg.br/api/v2/fren...</td>\n",
       "      <td>Frente Parlamentar em Defesa dos Técnicos Agrí...</td>\n",
       "      <td>56</td>\n",
       "    </tr>\n",
       "    <tr>\n",
       "      <th>2</th>\n",
       "      <td>54279</td>\n",
       "      <td>https://dadosabertos.camara.leg.br/api/v2/fren...</td>\n",
       "      <td>Frente Parlamentar Mista das Cooperativas de T...</td>\n",
       "      <td>56</td>\n",
       "    </tr>\n",
       "    <tr>\n",
       "      <th>3</th>\n",
       "      <td>54277</td>\n",
       "      <td>https://dadosabertos.camara.leg.br/api/v2/fren...</td>\n",
       "      <td>Frente Parlamentar Mista do Artesão e Apoio do...</td>\n",
       "      <td>56</td>\n",
       "    </tr>\n",
       "    <tr>\n",
       "      <th>4</th>\n",
       "      <td>54274</td>\n",
       "      <td>https://dadosabertos.camara.leg.br/api/v2/fren...</td>\n",
       "      <td>Frente Parlamentar dos Recicladores do Brasil ...</td>\n",
       "      <td>56</td>\n",
       "    </tr>\n",
       "  </tbody>\n",
       "</table>\n",
       "</div>"
      ],
      "text/plain": [
       "      id                                                uri  \\\n",
       "0  54282  https://dadosabertos.camara.leg.br/api/v2/fren...   \n",
       "1  54280  https://dadosabertos.camara.leg.br/api/v2/fren...   \n",
       "2  54279  https://dadosabertos.camara.leg.br/api/v2/fren...   \n",
       "3  54277  https://dadosabertos.camara.leg.br/api/v2/fren...   \n",
       "4  54274  https://dadosabertos.camara.leg.br/api/v2/fren...   \n",
       "\n",
       "                                              titulo  idLegislatura  \n",
       "0  Frente Parlamentar Mista da Contabilidade Bras...             56  \n",
       "1  Frente Parlamentar em Defesa dos Técnicos Agrí...             56  \n",
       "2  Frente Parlamentar Mista das Cooperativas de T...             56  \n",
       "3  Frente Parlamentar Mista do Artesão e Apoio do...             56  \n",
       "4  Frente Parlamentar dos Recicladores do Brasil ...             56  "
      ]
     },
     "execution_count": 4,
     "metadata": {},
     "output_type": "execute_result"
    }
   ],
   "source": [
    "df = pd.DataFrame(dados)\n",
    "df.head()\n"
   ]
  }
 ],
 "metadata": {
  "kernelspec": {
   "display_name": "Python 3.10.6 ('env': venv)",
   "language": "python",
   "name": "python3"
  },
  "language_info": {
   "codemirror_mode": {
    "name": "ipython",
    "version": 3
   },
   "file_extension": ".py",
   "mimetype": "text/x-python",
   "name": "python",
   "nbconvert_exporter": "python",
   "pygments_lexer": "ipython3",
   "version": "3.10.6"
  },
  "orig_nbformat": 4,
  "vscode": {
   "interpreter": {
    "hash": "c46e8280d1dd4ef73e7b9bff43bdba763f202b0e70637f286a2d35fd0821fd8e"
   }
  }
 },
 "nbformat": 4,
 "nbformat_minor": 2
}
